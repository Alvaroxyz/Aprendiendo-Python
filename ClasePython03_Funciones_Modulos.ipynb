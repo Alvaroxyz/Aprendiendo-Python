{
 "cells": [
  {
   "cell_type": "code",
   "execution_count": 2,
   "id": "6aa17651-b0b3-4482-85d9-b0e3c9596d3e",
   "metadata": {
    "tags": []
   },
   "outputs": [
    {
     "name": "stdout",
     "output_type": "stream",
     "text": [
      "1+3.14 es 4.140000000000001\n",
      "1*3.14 es 3.14\n",
      "1-3.14 es -2.14\n",
      "1÷3.14 es 0.3184713375796178\n"
     ]
    }
   ],
   "source": [
    "#Immportamos ciertas funciones del modulo Calculadora.py \n",
    "from Calculadora import suma, resta, multiplicacion, division\n",
    "\n",
    "a=1\n",
    "b=3.14\n",
    "\n",
    "print(f'{a}+{b} es {suma(a,b)}')\n",
    "print(f'{a}*{b} es {multiplicacion(a,b)}')\n",
    "print(f'{a}-{b} es {resta(a,b)}')\n",
    "print(f'{a}÷{b} es {division(a,b)}')"
   ]
  },
  {
   "cell_type": "markdown",
   "id": "1f00bb97-d2e0-46c2-a68c-0ced7924746f",
   "metadata": {
    "tags": []
   },
   "source": [
    "**List comprehensions**\n",
    "\n",
    "Las list comprehensions nos permiten escirbir muchas líneas de código en una sola, ya que permiten llenar listas seleccionando el tipo de elementos que queremos que entre y las condiciones que debe cumplir (a partir de otra lista). EJEMPLO1: Una forma clásica de seleccionar elementos de un vector es la siguiente:"
   ]
  },
  {
   "cell_type": "code",
   "execution_count": 3,
   "id": "ca2b185c-1c0d-4044-8233-78467734dd6e",
   "metadata": {},
   "outputs": [
    {
     "name": "stdout",
     "output_type": "stream",
     "text": [
      "[2, 4, 86, 4, 890, 64]\n"
     ]
    }
   ],
   "source": [
    "numeros = [1,2,3,4,86,4,5,99,890,45,64,67,245]\n",
    "pares = []\n",
    "for num in numeros:\n",
    "    if num%2==0:\n",
    "        pares.append(num)\n",
    "print(pares)"
   ]
  },
  {
   "cell_type": "markdown",
   "id": "c37b9e46-f26f-4852-a1fa-fe6729efd1ef",
   "metadata": {},
   "source": [
    "Sin embargo, esto se puede simplificar sobremanera de la siguiente manera: "
   ]
  },
  {
   "cell_type": "code",
   "execution_count": 8,
   "id": "5b86585a-d9a0-4d30-8a93-15e5a3a7ad5a",
   "metadata": {},
   "outputs": [
    {
     "name": "stdout",
     "output_type": "stream",
     "text": [
      "[2, 4, 86, 4, 890, 64]\n"
     ]
    }
   ],
   "source": [
    "par = [num for num in numeros if num%2==0]\n",
    "print(par)"
   ]
  },
  {
   "cell_type": "markdown",
   "id": "fe00ed02-bc32-4319-b4f2-4d7ef6c38566",
   "metadata": {},
   "source": [
    "Esto hace que el código se mucho más elegante. Es una buena práctica de programación."
   ]
  },
  {
   "cell_type": "markdown",
   "id": "f5d53664-9678-4597-a699-7088b0a8d350",
   "metadata": {},
   "source": [
    "EJEMPLO 2: Listar los ficheros python del directorio actual que comienzan por 'f'"
   ]
  },
  {
   "cell_type": "code",
   "execution_count": 15,
   "id": "c2e5173e-a692-44eb-8137-020b2a180ad6",
   "metadata": {},
   "outputs": [
    {
     "name": "stdout",
     "output_type": "stream",
     "text": [
      "['Calculadora.py', 'calculadora_numeros.py']\n"
     ]
    }
   ],
   "source": [
    "import os\n",
    "ficheros_python = [f for f in os.listdir('.') if f.startswith('C') and f.endswith('.py') or f.startswith('c') and f.endswith('.py')]\n",
    "print(ficheros_python)\n",
    "#Directorio es la carpeta donde estamos"
   ]
  },
  {
   "cell_type": "markdown",
   "id": "809aafe6-53a2-4c39-9b41-3c62b47d665e",
   "metadata": {},
   "source": [
    "En general os nos permite ver qué hay en el directorio:"
   ]
  },
  {
   "cell_type": "code",
   "execution_count": 16,
   "id": "8ee6eff9-d4c2-4e48-bd6f-820769fe00a2",
   "metadata": {},
   "outputs": [
    {
     "name": "stdout",
     "output_type": "stream",
     "text": [
      "['.git', '.ipynb_checkpoints', 'aliquot_sum.py', 'Calculadora.py', 'calculadora_numeros.py', 'ClasePython01.ipynb', 'ClasePython02.ipynb', 'ClasePython03_Funciones_Modulos.ipynb', 'ClasePython04_Numpy.ipynb', 'disarium.py', 'InvierteNumero.py', 'numeros_significativos.py', 'orden_ascendente.py', 'primer_programa.py', 'pruebasClase02.py', 'raices_cuadratica.py', 'secuencia_siguientes_multiplos.py', 'shuffle_ramdomly.py', 'suma_digit_varios.py', 'vector_cifras.py', '__pycache__']\n"
     ]
    }
   ],
   "source": [
    "ficheros = [f for f in os.listdir('.')]\n",
    "print(ficheros)"
   ]
  },
  {
   "cell_type": "code",
   "execution_count": null,
   "id": "607d4911-09fd-4923-adf0-9cb72dcd85db",
   "metadata": {},
   "outputs": [],
   "source": []
  }
 ],
 "metadata": {
  "kernelspec": {
   "display_name": "Python 3 (ipykernel)",
   "language": "python",
   "name": "python3"
  },
  "language_info": {
   "codemirror_mode": {
    "name": "ipython",
    "version": 3
   },
   "file_extension": ".py",
   "mimetype": "text/x-python",
   "name": "python",
   "nbconvert_exporter": "python",
   "pygments_lexer": "ipython3",
   "version": "3.9.12"
  }
 },
 "nbformat": 4,
 "nbformat_minor": 5
}
