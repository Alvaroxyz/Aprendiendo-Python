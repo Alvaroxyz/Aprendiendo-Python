{
 "cells": [
  {
   "cell_type": "code",
   "execution_count": 1,
   "id": "b940d28d",
   "metadata": {},
   "outputs": [],
   "source": [
    "import numpy as np\n",
    "import matplotlib.pyplot as plt"
   ]
  },
  {
   "cell_type": "code",
   "execution_count": 69,
   "id": "58c2e1fd",
   "metadata": {},
   "outputs": [
    {
     "data": {
      "text/plain": [
       "numpy.ndarray"
      ]
     },
     "execution_count": 69,
     "metadata": {},
     "output_type": "execute_result"
    }
   ],
   "source": [
    "def f(x):\n",
    "    return (x**3)*(np.cos(x))\n",
    "\n",
    "x = np.arange(-10,10,0.1)"
   ]
  },
  {
   "cell_type": "code",
   "execution_count": 7,
   "id": "e0f7291d",
   "metadata": {},
   "outputs": [
    {
     "data": {
      "text/plain": [
       "199"
      ]
     },
     "execution_count": 7,
     "metadata": {},
     "output_type": "execute_result"
    }
   ],
   "source": [
    "x.argmax()"
   ]
  },
  {
   "cell_type": "code",
   "execution_count": 8,
   "id": "2339ef44",
   "metadata": {},
   "outputs": [
    {
     "data": {
      "text/plain": [
       "True"
      ]
     },
     "execution_count": 8,
     "metadata": {},
     "output_type": "execute_result"
    }
   ],
   "source": [
    "x[x.argmax()]==x[-1]"
   ]
  },
  {
   "cell_type": "code",
   "execution_count": 9,
   "id": "3b0a2cbc",
   "metadata": {},
   "outputs": [],
   "source": [
    "y = f(x)"
   ]
  },
  {
   "cell_type": "code",
   "execution_count": 11,
   "id": "4c26eb95",
   "metadata": {},
   "outputs": [
    {
     "data": {
      "image/png": "[encoded data removed]",
      "text/plain": [
       "<Figure size 432x288 with 1 Axes>"
      ]
     },
     "metadata": {
      "needs_background": "light"
     },
     "output_type": "display_data"
    }
   ],
   "source": [
    "plt.plot(x,y)\n",
    "plt.grid()"
   ]
  },
  {
   "cell_type": "markdown",
   "id": "d75b9aad",
   "metadata": {},
   "source": [
    "**Qué es un array**"
   ]
  },
  {
   "cell_type": "markdown",
   "id": "b960c911",
   "metadata": {},
   "source": [
    "Una lista es distinto a un array. La lista tiene unos atributos, unas características diferentes. Un array es otra cosa. Son dos objetos distintos, con distintos atributos."
   ]
  },
  {
   "cell_type": "code",
   "execution_count": 59,
   "id": "be256b9e",
   "metadata": {},
   "outputs": [
    {
     "data": {
      "text/plain": [
       "numpy.ndarray"
      ]
     },
     "execution_count": 59,
     "metadata": {},
     "output_type": "execute_result"
    }
   ],
   "source": [
    "y = np.array([1,2,3,4,5])\n",
    "type(y)"
   ]
  },
  {
   "cell_type": "code",
   "execution_count": 92,
   "id": "d5527240",
   "metadata": {},
   "outputs": [
    {
     "data": {
      "text/plain": [
       "dtype('float64')"
      ]
     },
     "execution_count": 92,
     "metadata": {},
     "output_type": "execute_result"
    }
   ],
   "source": [
    "a = np.array([1,2,3.0,4,5])\n",
    "a.dtype"
   ]
  },
  {
   "cell_type": "code",
   "execution_count": 97,
   "id": "a51dcbdd",
   "metadata": {},
   "outputs": [
    {
     "data": {
      "text/plain": [
       "dtype('float64')"
      ]
     },
     "execution_count": 97,
     "metadata": {},
     "output_type": "execute_result"
    }
   ],
   "source": [
    "#los podemos volver del tipo que queramos a la fuerza.\n",
    "b = np.array([1,2,3,4,5], dtype=float)\n",
    "b.dtype"
   ]
  },
  {
   "cell_type": "code",
   "execution_count": 104,
   "id": "f18c936f",
   "metadata": {},
   "outputs": [
    {
     "name": "stdout",
     "output_type": "stream",
     "text": [
      "int32\n",
      "[ 4  8 12 16 20 16 24]\n",
      "int32\n"
     ]
    }
   ],
   "source": [
    "#Por ejemplo: volver floats como enteros.\n",
    "b1 = np.array([1,2,3,4,5.9,4,6], dtype=int)\n",
    "print(b1.dtype)\n",
    "b2 = 4*b1\n",
    "print(b2)\n",
    "print(b2.dtype)"
   ]
  },
  {
   "cell_type": "markdown",
   "id": "060fab4a",
   "metadata": {},
   "source": [
    "## DISTINTOS TIPOS DE OBJETOS"
   ]
  },
  {
   "cell_type": "markdown",
   "id": "7b681f5b",
   "metadata": {},
   "source": [
    "### range de Python"
   ]
  },
  {
   "cell_type": "code",
   "execution_count": 21,
   "id": "a2951296",
   "metadata": {},
   "outputs": [
    {
     "name": "stdout",
     "output_type": "stream",
     "text": [
      "10\n",
      "11\n",
      "12\n",
      "13\n",
      "14\n",
      "15\n",
      "16\n",
      "17\n"
     ]
    }
   ],
   "source": [
    "#Función range: da una secuencia de ENTEROS: range(start, stop, step) sin tomar STOP. Y con un STEP entero. \n",
    "#range solo sirve como para tener una secuencia para correr un contador. No se puede multiplicar con enteros, etc.\n",
    "g = range(10)\n",
    "for i in range(10,18,1):\n",
    "    print(i)"
   ]
  },
  {
   "cell_type": "markdown",
   "id": "5fbc89f2",
   "metadata": {},
   "source": [
    "### arange de Numpy"
   ]
  },
  {
   "cell_type": "code",
   "execution_count": 75,
   "id": "f4811983",
   "metadata": {},
   "outputs": [
    {
     "name": "stdout",
     "output_type": "stream",
     "text": [
      "[10.  10.1 10.2 10.3 10.4 10.5 10.6 10.7 10.8 10.9 11.  11.1 11.2 11.3\n",
      " 11.4 11.5 11.6 11.7 11.8 11.9]\n"
     ]
    },
    {
     "data": {
      "text/plain": [
       "numpy.ndarray"
      ]
     },
     "execution_count": 75,
     "metadata": {},
     "output_type": "execute_result"
    }
   ],
   "source": [
    "#Un arange de NumPy es la generalización del range de python (aunque son objetos distintos). \n",
    "#Permite iniciar en no-enteros, terminar en no-enteros y\n",
    "#tener un step no-entero. PERO si step es no-entero, se recomienda usar np.linspace\n",
    "u = np.arange(10,12,0.1)\n",
    "print(u)\n",
    "type(u)"
   ]
  },
  {
   "cell_type": "markdown",
   "id": "3b4ed735",
   "metadata": {},
   "source": [
    "### linspace de Numpy"
   ]
  },
  {
   "cell_type": "code",
   "execution_count": 77,
   "id": "a8c98f38",
   "metadata": {},
   "outputs": [
    {
     "name": "stdout",
     "output_type": "stream",
     "text": [
      "[10.  10.1 10.2 10.3 10.4 10.5 10.6 10.7 10.8 10.9 11.  11.1 11.2 11.3\n",
      " 11.4 11.5 11.6 11.7 11.8 11.9 12. ]\n"
     ]
    },
    {
     "data": {
      "text/plain": [
       "numpy.ndarray"
      ]
     },
     "execution_count": 77,
     "metadata": {},
     "output_type": "execute_result"
    }
   ],
   "source": [
    "#un ejemplo con linspace. Toca poner +1 a la cantidad de elementos que daría con un np.arange.\n",
    "#np.linspace trabaja distinto. toma 21 numeros igualmente espaciados en [start, stop]. Osea se tienen 20 intervalos cada uno\n",
    "# de 1/20 del total.\n",
    "r1 = np.linspace(10,12,21)#no 20 sino 21. \n",
    "print(r1)\n",
    "type(r1)"
   ]
  },
  {
   "cell_type": "markdown",
   "id": "181f1e11",
   "metadata": {},
   "source": [
    "### array de numpy"
   ]
  },
  {
   "cell_type": "markdown",
   "id": "461ab3ab",
   "metadata": {},
   "source": [
    "Los arrays de numpy son propiamente los vectores de numpy. Osea ese es el objeto que np. reserva para los vectores: el objeto ndarray. Como vimos, los np.arange, np.linspace, etc. son ndarray's. Osea que se pueden multiplicar, etc. Todo lo que se le puede hacer a un vector. Cosa que no se le puede hacer a un range(), por ejemplo. Note que cuando se pregunta por el tipo de objeto para un np.arange o np.linspace, etc. sale algo como array(xxx), lo que nos indica que NumPy le pasa su FUNCIÓN ARRAY a un objeto, lo que lo convierte en un array, osea, en un objeto ndarray."
   ]
  },
  {
   "cell_type": "markdown",
   "id": "995bdf71",
   "metadata": {},
   "source": [
    "### Lista de python"
   ]
  },
  {
   "cell_type": "code",
   "execution_count": 42,
   "id": "736acb38",
   "metadata": {},
   "outputs": [
    {
     "name": "stdout",
     "output_type": "stream",
     "text": [
      "[1, 2, 3, 4, 5, 5, 6, 'numeros', 'palabras', '45']\n"
     ]
    },
    {
     "data": {
      "text/plain": [
       "list"
      ]
     },
     "execution_count": 42,
     "metadata": {},
     "output_type": "execute_result"
    }
   ],
   "source": [
    "#Una lista es otro objeto. La lista se puede modificar, se pueden meter distintos tipos de datos (string, float, etc.) mezclados.\n",
    "r = [1,2,3,4,5,5, 6,'numeros','palabras','45']\n",
    "print(r)\n",
    "type(r)"
   ]
  },
  {
   "cell_type": "code",
   "execution_count": 83,
   "id": "b46759bd",
   "metadata": {},
   "outputs": [
    {
     "name": "stdout",
     "output_type": "stream",
     "text": [
      "[3 6 list([1, 2, '5', 1, 2, '5', 1, 2, '5']) 9 '444']\n"
     ]
    },
    {
     "data": {
      "text/plain": [
       "numpy.ndarray"
      ]
     },
     "execution_count": 83,
     "metadata": {},
     "output_type": "execute_result"
    }
   ],
   "source": [
    "t1 = np.array([1,2,[1,2,'5'],3, '4'],dtype=list)\n",
    "t2 = 3*t1\n",
    "print(t2)\n",
    "type(t2)"
   ]
  },
  {
   "cell_type": "code",
   "execution_count": 4,
   "id": "b3fe9a74",
   "metadata": {},
   "outputs": [
    {
     "data": {
      "text/plain": [
       "numpy.ndarray"
      ]
     },
     "execution_count": 4,
     "metadata": {},
     "output_type": "execute_result"
    }
   ],
   "source": [
    "t3 = np.array([range(12),range(5)], dtype=range)\n",
    "#t4 = 6*t3, no se puede porque range no soporta el producto.\n",
    "type(t3)\n",
    "#print(t4) no es un objeto. Porque da error su definición.\n",
    "#type(t4)"
   ]
  },
  {
   "cell_type": "markdown",
   "id": "aedc30e2",
   "metadata": {},
   "source": [
    "### Algunos métodos relacionados con los arrays"
   ]
  },
  {
   "cell_type": "code",
   "execution_count": 17,
   "id": "b90cd7f3",
   "metadata": {},
   "outputs": [
    {
     "name": "stdout",
     "output_type": "stream",
     "text": [
      "[[1 2 3]\n",
      " [5 6 7]\n",
      " [7 8 9]]\n",
      "2\n",
      "(3, 3)\n"
     ]
    }
   ],
   "source": [
    "b = np.array([[1, 2, 3],\n",
    "              [5, 6, 7],\n",
    "              [7, 8, 9]])\n",
    "print(b)\n",
    "print(b.ndim)\n",
    "print(b.shape)"
   ]
  },
  {
   "cell_type": "code",
   "execution_count": 20,
   "id": "0da221f0",
   "metadata": {},
   "outputs": [
    {
     "name": "stdout",
     "output_type": "stream",
     "text": [
      "[5 6 7]\n",
      "[[5 6]\n",
      " [7 8]]\n"
     ]
    }
   ],
   "source": [
    "print(b[1,:])\n",
    "print(b[1:,:2])"
   ]
  },
  {
   "cell_type": "markdown",
   "id": "889e2e58",
   "metadata": {},
   "source": [
    "### Otras funciones de Numpy"
   ]
  },
  {
   "cell_type": "code",
   "execution_count": 5,
   "id": "da3353a1",
   "metadata": {},
   "outputs": [
    {
     "name": "stdout",
     "output_type": "stream",
     "text": [
      "[[0.25414156 0.43531144 0.65837987]\n",
      " [0.77073598 0.48302629 0.79288437]\n",
      " [0.09968582 0.60753537 0.190657  ]]\n",
      "[0.62307061 0.55595347 0.69504246 0.7040029  0.55386902 0.23148233\n",
      " 0.58942893]\n"
     ]
    }
   ],
   "source": [
    "t1 = np.random.rand(3,3)\n",
    "t2 = np.random.rand(7)\n",
    "print(t1)\n",
    "print(t2)"
   ]
  },
  {
   "cell_type": "code",
   "execution_count": 47,
   "id": "6c43dc22",
   "metadata": {},
   "outputs": [
    {
     "name": "stdout",
     "output_type": "stream",
     "text": [
      "[11 15  9 11  2]\n"
     ]
    }
   ],
   "source": [
    "t3 = np.random.randint(low=1,high=17,size=5)\n",
    "print(t3)"
   ]
  },
  {
   "cell_type": "markdown",
   "id": "82927bf4",
   "metadata": {},
   "source": [
    "### Resolver sistemas de ecuaciones lineales"
   ]
  },
  {
   "cell_type": "code",
   "execution_count": 51,
   "id": "d404ad57",
   "metadata": {},
   "outputs": [],
   "source": [
    "a01 = np.random.rand(100,100)\n",
    "b01 = np.random.rand(100,1)"
   ]
  },
  {
   "cell_type": "code",
   "execution_count": null,
   "id": "18f5ab61",
   "metadata": {},
   "outputs": [],
   "source": []
  }
 ],
 "metadata": {
  "kernelspec": {
   "display_name": "Python 3 (ipykernel)",
   "language": "python",
   "name": "python3"
  },
  "language_info": {
   "codemirror_mode": {
    "name": "ipython",
    "version": 3
   },
   "file_extension": ".py",
   "mimetype": "text/x-python",
   "name": "python",
   "nbconvert_exporter": "python",
   "pygments_lexer": "ipython3",
   "version": "3.9.12"
  }
 },
 "nbformat": 4,
 "nbformat_minor": 5
}
